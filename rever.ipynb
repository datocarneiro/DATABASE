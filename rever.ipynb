{
 "cells": [
  {
   "cell_type": "markdown",
   "metadata": {},
   "source": [
    "# ***exemplo de ranqueamento***\n",
    "Exemplo de ranqueamento \n",
    "rever estudos posteriormente"
   ]
  },
  {
   "cell_type": "code",
   "execution_count": null,
   "metadata": {
    "vscode": {
     "languageId": "sql"
    }
   },
   "outputs": [],
   "source": [
    "SELECT * from (select a.*, ROW_NUMBER()\n",
    "OVER(PARTITION BY cor order by nome) as ordem_cor from veiculo a)\n",
    "tb where ordem_cor < 3; "
   ]
  },
  {
   "cell_type": "markdown",
   "metadata": {},
   "source": [
    "# ***retornar a consulta ja no formato json***\n",
    "\n",
    "Rever - ja retornando em uma consulta o retorno em formato de json\n",
    "\n",
    "interesante oara criaçãode API."
   ]
  },
  {
   "cell_type": "code",
   "execution_count": null,
   "metadata": {
    "vscode": {
     "languageId": "sql"
    }
   },
   "outputs": [],
   "source": [
    "select JSON_OBJECT('veiculos', JSON_ARRAYAGG( JSON_OBJECT\n",
    "('Nome', Nome, 'Cor', Cor)))\n",
    "from veiculo; "
   ]
  }
 ],
 "metadata": {
  "kernelspec": {
   "display_name": "Python 3",
   "language": "python",
   "name": "python3"
  },
  "language_info": {
   "codemirror_mode": {
    "name": "ipython",
    "version": 3
   },
   "file_extension": ".py",
   "mimetype": "text/x-python",
   "name": "python",
   "nbconvert_exporter": "python",
   "pygments_lexer": "ipython3",
   "version": "3.11.5"
  }
 },
 "nbformat": 4,
 "nbformat_minor": 2
}
