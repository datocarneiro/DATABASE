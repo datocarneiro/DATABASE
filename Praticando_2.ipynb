{
 "cells": [
  {
   "cell_type": "markdown",
   "metadata": {},
   "source": [
    "# ***Praticando 2***\n",
    "\n",
    "loja Play"
   ]
  },
  {
   "cell_type": "markdown",
   "metadata": {},
   "source": [
    "Criando DATABASE"
   ]
  },
  {
   "cell_type": "code",
   "execution_count": null,
   "metadata": {
    "vscode": {
     "languageId": "sql"
    }
   },
   "outputs": [],
   "source": [
    "CREATE database if not exists play;"
   ]
  },
  {
   "cell_type": "markdown",
   "metadata": {},
   "source": [
    "Criando as tabelas \n",
    "* jogo\n",
    "* promocao\n",
    "* secao\n",
    "* valor_jogos"
   ]
  },
  {
   "cell_type": "code",
   "execution_count": null,
   "metadata": {
    "vscode": {
     "languageId": "sql"
    }
   },
   "outputs": [],
   "source": [
    "\n",
    "create table if not exists jogo(\n",
    "    id int not null AUTO_INCREMENT PRIMARY key,\n",
    "    nome varchar(40) not null,\n",
    "    valor decimal(6,2),\n",
    "    id_secao int),\n",
    "    data_lancamento DATE,\n",
    "    foreign (id_secao) references secao(id);\n",
    "    \n",
    "create table if not exists promocao(\n",
    "    id_promo int not null AUTO_INCREMENT PRIMARY KEY,\n",
    "    nome varchar(40),\n",
    "    id_jogo int, \n",
    "    promocao VARCHAR (40),\n",
    "    Foreign Key (id_jogo) REFERENCES jogo(id));\n",
    "\n",
    "\n",
    "create table if not exists secao(\n",
    "    id int AUTO_INCREMENT PRIMARY KEY,\n",
    "    nome VARCHAR (40));\n",
    "\n",
    "create table if not exists valor_jogos(\n",
    "    id_jogo int PRIMARY key,\n",
    "    valor_original decimal(6,2),\n",
    "    Foreign Key (id_jogo) REFERENCES jogo(id));"
   ]
  },
  {
   "cell_type": "markdown",
   "metadata": {},
   "source": [
    "Inserindo dados nas Tabelas criadas"
   ]
  },
  {
   "cell_type": "code",
   "execution_count": null,
   "metadata": {
    "vscode": {
     "languageId": "sql"
    }
   },
   "outputs": [],
   "source": [
    "insert into jogo values\n",
    "    (0,'CTR', 250.00, 1, 2024-09-01),\n",
    "    (0,'Donkey Monkey Country 4', 300.00, 4, 2023-10-15),\n",
    "    (0,'Horizonte Esquecido Oeste', 150.00, 3, 2022-11-20),\n",
    "    (0,'Final Costume XX', 299.00, 3, 2021-12-05),\n",
    "    (0,'A sombra do colosso', 200.00, 3, 1980-12-12),\n",
    "    (0, 'NFS U2 Remake', 300.00, 1, 1981-12-12),\n",
    "    (0,'PES-13', 999.00, 2, 2020-12-05),\n",
    "    (0,'FIFA-13', 99.00, 2, 2019-12-05);\n",
    "\n",
    "insert into valor_jogos values\n",
    "    (1, 250.00),\n",
    "    (2, 300.00),\n",
    "    (3, 150.00),\n",
    "    (4, 299.00),\n",
    "    (5, 200.00),\n",
    "    (6, 300.00),\n",
    "    (7, 999.00),\n",
    "    (8, 99.00);\n",
    "\n",
    "INSERT INTO promocao (nome, id_jogo)\n",
    "    SELECT jogo.nome, jogo.id FROM jogo\n",
    "    WHERE jogo.data_lancamento < '2000-01-01';\n",
    "\n",
    "\n",
    "INSERT into secao VALUES\n",
    "    (0, 'Corrida'),\n",
    "    (0, 'Futebol'),\n",
    "    (0, 'Guerra'),\n",
    "    (0, 'Outros');"
   ]
  },
  {
   "cell_type": "markdown",
   "metadata": {},
   "source": [
    "Atualizando jogos `Com 50% de desconto`"
   ]
  },
  {
   "cell_type": "code",
   "execution_count": null,
   "metadata": {
    "vscode": {
     "languageId": "sql"
    }
   },
   "outputs": [],
   "source": [
    "START TRANSACTION; \n",
    "UPDATE jogo\n",
    "    set valor = valor * 0.5\n",
    "    where jogo.id in \n",
    "    (SELECT promocao.id_jogo from promocao);\n",
    "ROLLBACK;\n",
    "COMMIT;"
   ]
  },
  {
   "cell_type": "markdown",
   "metadata": {},
   "source": [
    "Atualiza Jogos com `Valor original de venda`"
   ]
  },
  {
   "cell_type": "code",
   "execution_count": null,
   "metadata": {
    "vscode": {
     "languageId": "sql"
    }
   },
   "outputs": [],
   "source": [
    "START TRANSACTION;\n",
    "UPDATE jogo INNER JOIN valor_jogos \n",
    "    ON jogo.id = valor_jogos.id_jogo\n",
    "SET jogo.valor = valor_jogos.valor_original\n",
    "    WHERE jogo.id IN (SELECT id_jogo FROM promocao);\n",
    "ROLLBACK;\n",
    "COMMIT;\n"
   ]
  },
  {
   "cell_type": "markdown",
   "metadata": {},
   "source": [
    "Consultando as tabelas em si"
   ]
  },
  {
   "cell_type": "code",
   "execution_count": null,
   "metadata": {
    "vscode": {
     "languageId": "sql"
    }
   },
   "outputs": [],
   "source": [
    "SELECT * from jogo;\n",
    "SELECT * from promocao;\n",
    "SELECT * from secao;\n",
    "SELECT * from valor_jogos;"
   ]
  },
  {
   "cell_type": "markdown",
   "metadata": {},
   "source": [
    "Consultando todos os jogos, e inserindo uma coluna com a promoção ativa se existir para o jogo"
   ]
  },
  {
   "cell_type": "code",
   "execution_count": null,
   "metadata": {
    "vscode": {
     "languageId": "sql"
    }
   },
   "outputs": [],
   "source": [
    "SELECT\n",
    "    jogo.id, jogo.nome,\n",
    "    jogo.valor, promocao.promocao \n",
    "from jogo LEFT join promocao\n",
    "on jogo.id = promocao.id_jogo;"
   ]
  },
  {
   "cell_type": "markdown",
   "metadata": {},
   "source": [
    "Consulta somente os jogos com promoções"
   ]
  },
  {
   "cell_type": "code",
   "execution_count": null,
   "metadata": {
    "vscode": {
     "languageId": "sql"
    }
   },
   "outputs": [],
   "source": [
    "select \n",
    "    jogo.id as Cod,\n",
    "    jogo.nome as Jogo,\n",
    "    jogo.valor, promocao.nome as Promoção \n",
    "from jogo inner join promocao\n",
    "    on jogo.id = promocao.id_jogo\n",
    "where jogo.id in\n",
    "    (select promocao.id_jogo from promocao);"
   ]
  },
  {
   "cell_type": "markdown",
   "metadata": {},
   "source": [
    "Consulta somente os jogos sem promoção"
   ]
  },
  {
   "cell_type": "code",
   "execution_count": null,
   "metadata": {
    "vscode": {
     "languageId": "sql"
    }
   },
   "outputs": [],
   "source": [
    "select \n",
    "jogo.id as Cód,\n",
    "jogo.nome as Jogo,\n",
    "jogo.valor\n",
    "from jogo\n",
    "where jogo.id not in \n",
    "    (select promocao.id_jogo from promocao);"
   ]
  }
 ],
 "metadata": {
  "language_info": {
   "name": "python"
  }
 },
 "nbformat": 4,
 "nbformat_minor": 2
}
