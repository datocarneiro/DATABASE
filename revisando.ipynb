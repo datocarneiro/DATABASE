{
 "cells": [
  {
   "cell_type": "code",
   "execution_count": null,
   "metadata": {
    "vscode": {
     "languageId": "sql"
    }
   },
   "outputs": [],
   "source": [
    "use world;"
   ]
  },
  {
   "cell_type": "code",
   "execution_count": null,
   "metadata": {
    "vscode": {
     "languageId": "sql"
    }
   },
   "outputs": [],
   "source": [
    "SELECT \n",
    "    country.name as Pais, \n",
    "    city.name  as Capital\n",
    "from \n",
    "    country \n",
    "inner join \n",
    "    city\n",
    "    on country.capital = city.id;"
   ]
  },
  {
   "cell_type": "code",
   "execution_count": null,
   "metadata": {
    "vscode": {
     "languageId": "sql"
    }
   },
   "outputs": [],
   "source": [
    "SELECT name , code2 from country;"
   ]
  },
  {
   "cell_type": "code",
   "execution_count": null,
   "metadata": {
    "vscode": {
     "languageId": "sql"
    }
   },
   "outputs": [],
   "source": [
    "describe city;"
   ]
  },
  {
   "cell_type": "code",
   "execution_count": null,
   "metadata": {
    "vscode": {
     "languageId": "sql"
    }
   },
   "outputs": [],
   "source": [
    "describe country;"
   ]
  },
  {
   "cell_type": "code",
   "execution_count": null,
   "metadata": {
    "vscode": {
     "languageId": "sql"
    }
   },
   "outputs": [],
   "source": [
    "describe city;"
   ]
  },
  {
   "cell_type": "code",
   "execution_count": null,
   "metadata": {
    "vscode": {
     "languageId": "sql"
    }
   },
   "outputs": [],
   "source": [
    "CREATE view v_pais as select name  from country;\n",
    "\n",
    "select * from v_pais"
   ]
  },
  {
   "cell_type": "code",
   "execution_count": null,
   "metadata": {
    "vscode": {
     "languageId": "sql"
    }
   },
   "outputs": [],
   "source": [
    "CREATE FUNCTION qtd_estado (codPais CHAR)\n",
    "RETURNS INT\n",
    "DETERMINISTIC\n",
    "BEGIN\n",
    "    RETURN (SELECT COUNT(DISTINCT District) FROM city WHERE CountryCode = codPais);\n",
    "END;\n",
    "\n",
    "\n",
    "SELECT codPais, qtd_estado(codPais) AS quantidade_estados\n",
    "FROM v_pais;\n",
    "\n"
   ]
  },
  {
   "cell_type": "markdown",
   "metadata": {},
   "source": []
  },
  {
   "cell_type": "code",
   "execution_count": null,
   "metadata": {
    "vscode": {
     "languageId": "sql"
    }
   },
   "outputs": [],
   "source": [
    "SELECT Name, COUNT(`Capital`) AS district_count\n",
    "FROM country\n",
    "GROUP BY Name;\n"
   ]
  },
  {
   "cell_type": "code",
   "execution_count": null,
   "metadata": {
    "vscode": {
     "languageId": "sql"
    }
   },
   "outputs": [],
   "source": [
    "select count(DISTINCT District) from city where (\n",
    "select name from country where name = 'brazil')\n",
    "limit 5;"
   ]
  },
  {
   "cell_type": "code",
   "execution_count": null,
   "metadata": {
    "vscode": {
     "languageId": "sql"
    }
   },
   "outputs": [],
   "source": [
    "-- Consulta para retornar todas as chaves primárias\n",
    "SELECT \n",
    "    TABLE_NAME,\n",
    "    COLUMN_NAME,\n",
    "    CONSTRAINT_NAME AS primary_key_name\n",
    "FROM \n",
    "    information_schema.KEY_COLUMN_USAGE\n",
    "WHERE \n",
    "    TABLE_SCHEMA = 'world'\n",
    "    AND CONSTRAINT_NAME = 'PRIMARY';\n",
    "\n",
    "-- Consulta para retornar todas as chaves estrangeiras\n",
    "SELECT \n",
    "    TABLE_NAME,\n",
    "    COLUMN_NAME,\n",
    "    CONSTRAINT_NAME AS foreign_key_name,\n",
    "    REFERENCED_TABLE_NAME,\n",
    "    REFERENCED_COLUMN_NAME\n",
    "FROM \n",
    "    information_schema.KEY_COLUMN_USAGE\n",
    "WHERE \n",
    "    TABLE_SCHEMA = 'world'\n",
    "    AND REFERENCED_TABLE_NAME IS NOT NULL;\n"
   ]
  },
  {
   "cell_type": "code",
   "execution_count": null,
   "metadata": {
    "vscode": {
     "languageId": "sql"
    }
   },
   "outputs": [],
   "source": [
    "SELECT COUNT(*) AS total_paises\n",
    "FROM country;"
   ]
  },
  {
   "cell_type": "code",
   "execution_count": null,
   "metadata": {
    "vscode": {
     "languageId": "sql"
    }
   },
   "outputs": [],
   "source": []
  }
 ],
 "metadata": {
  "language_info": {
   "name": "python"
  }
 },
 "nbformat": 4,
 "nbformat_minor": 2
}
