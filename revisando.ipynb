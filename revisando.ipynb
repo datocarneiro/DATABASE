{
 "cells": [
  {
   "cell_type": "code",
   "execution_count": null,
   "metadata": {
    "vscode": {
     "languageId": "sql"
    }
   },
   "outputs": [],
   "source": [
    "use world;"
   ]
  },
  {
   "cell_type": "code",
   "execution_count": null,
   "metadata": {
    "vscode": {
     "languageId": "sql"
    }
   },
   "outputs": [],
   "source": [
    "SELECT \n",
    "    country.name as Pais, \n",
    "    city.CountryCode as cod_Pais,\n",
    "    (SELECT qtd_estado(cod_Pais)) as Qtd_Estados\n",
    "from \n",
    "    country \n",
    "inner join \n",
    "    city\n",
    "    on country.capital = city.id;"
   ]
  },
  {
   "cell_type": "code",
   "execution_count": null,
   "metadata": {
    "vscode": {
     "languageId": "sql"
    }
   },
   "outputs": [],
   "source": [
    "delimiter $$\n",
    "CREATE FUNCTION qtd_estado (codPais VARCHAR(3))\n",
    "RETURNS INT DETERMINISTIC\n",
    "    BEGIN\n",
    "        RETURN (SELECT COUNT(DISTINCT District) FROM city WHERE CountryCode = codPais);\n",
    "    END;\n",
    "DELIMITER ;\n"
   ]
  }
 ],
 "metadata": {
  "language_info": {
   "name": "python"
  }
 },
 "nbformat": 4,
 "nbformat_minor": 2
}
