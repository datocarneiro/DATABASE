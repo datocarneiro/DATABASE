{
 "cells": [
  {
   "cell_type": "code",
   "execution_count": null,
   "metadata": {
    "vscode": {
     "languageId": "sql"
    }
   },
   "outputs": [],
   "source": [
    "use world;"
   ]
  },
  {
   "cell_type": "code",
   "execution_count": null,
   "metadata": {
    "vscode": {
     "languageId": "sql"
    }
   },
   "outputs": [],
   "source": [
    "SELECT \n",
    "    country.NAME as CODPAIS,\n",
    "    city.countrycode as CODPAIS,\n",
    "    city.district as CAPITAL,\n",
    "    (SELECT soma_estados(city.countrycode)) as QTD_ESTADO\n",
    "from \n",
    "    country \n",
    "inner join \n",
    "    city  on country.capital = city.id\n",
    ";"
   ]
  },
  {
   "cell_type": "code",
   "execution_count": null,
   "metadata": {
    "vscode": {
     "languageId": "sql"
    }
   },
   "outputs": [],
   "source": [
    "DELIMITER $$\n",
    "CREATE Function soma_estados (codPais char(3))\n",
    "RETURNS int DETERMINISTIC\n",
    "begin \n",
    "    RETURN (select count(DISTINCT District) from city where CountryCode = codPais);\n",
    "end $$ \n",
    "DELIMITER ;"
   ]
  }
 ],
 "metadata": {
  "language_info": {
   "name": "python"
  }
 },
 "nbformat": 4,
 "nbformat_minor": 2
}
