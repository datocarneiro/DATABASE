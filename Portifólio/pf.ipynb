{
 "cells": [
  {
   "cell_type": "markdown",
   "metadata": {},
   "source": [
    "# ***Etapa 1***\n",
    "Crie uma base de dados chamada \"Loja\" com o MySQL Server por meio do software MySQL Workbench. Adicione \n",
    "as estruturas de dados neste banco, utilizando os comandos de definição de dados (DDL) da linguagem SQL, e \n",
    "respeitando o modelo definido no DER da Figura a seguir."
   ]
  },
  {
   "cell_type": "markdown",
   "metadata": {},
   "source": [
    "Na criação do banco de dados da figura, respeite as seguintes regras:\n",
    "* As chaves primárias devem ser colocadas todas como autoincremento.\n",
    "* Respeite os relacionamentos, tipos, precisões e restrições de não nulo.\n",
    "* O campo “Situação” da tabela “ContaReceber” deve ser do tipo ENUM e possuir apenas os valores 1, 2 ou \n",
    "3, sendo 1 – Conta registrada, 2 – Conta cancelada, 3 – Conta paga"
   ]
  },
  {
   "cell_type": "code",
   "execution_count": null,
   "metadata": {
    "vscode": {
     "languageId": "sql"
    }
   },
   "outputs": [],
   "source": []
  },
  {
   "cell_type": "markdown",
   "metadata": {},
   "source": [
    "# ***Etapa 2***\n",
    "Crie um script chamado “inserir.sql” contento os comandos de manipulação (DML), com o objetivo de popular todas \n",
    "as tabelas existentes na base de dados (ou seja, inserir dados nas tabelas!). Insira ao menos três registros por tabela.\n"
   ]
  },
  {
   "cell_type": "code",
   "execution_count": null,
   "metadata": {
    "vscode": {
     "languageId": "sql"
    }
   },
   "outputs": [],
   "source": []
  },
  {
   "cell_type": "markdown",
   "metadata": {},
   "source": [
    "# ***Etapa 3***\n",
    "Por meio dos comandos de consulta (DQL) da linguagem SQL, elabore um script chamado “consulta.sql” que irá \n",
    "conter uma visão (VIEW) que retornará todas as contas que ainda não foram pagas (Situação = 1), devendo conter as \n",
    "seguintes informações:\n",
    "* ID da conta a receber\n",
    "* Nome e CPF do Cliente associado à conta\n",
    "* Data de vencimento da conta\n",
    "* Valor da conta"
   ]
  },
  {
   "cell_type": "code",
   "execution_count": null,
   "metadata": {
    "vscode": {
     "languageId": "sql"
    }
   },
   "outputs": [],
   "source": []
  },
  {
   "cell_type": "markdown",
   "metadata": {},
   "source": [
    "# ***Resultados da aula prática:***\n",
    "Elaborar um relatório que deverá conter introdução, métodos, resultados e conclusão sobre o assunto desenvolvido \n",
    "em aula prática, para compreender como foram desenvolvidas todas as etapas da atividade. Inserir no relatório todos \n",
    "os scripts utilizados na resolução desta atividade prática"
   ]
  }
 ],
 "metadata": {
  "language_info": {
   "name": "python"
  }
 },
 "nbformat": 4,
 "nbformat_minor": 2
}
